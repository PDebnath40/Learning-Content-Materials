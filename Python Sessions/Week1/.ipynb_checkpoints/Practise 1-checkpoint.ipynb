{
 "cells": [
  {
   "cell_type": "code",
   "execution_count": 1,
   "id": "fff7ee2d",
   "metadata": {},
   "outputs": [
    {
     "name": "stdout",
     "output_type": "stream",
     "text": [
      "Hello\n",
      "How are you?\n"
     ]
    }
   ],
   "source": [
    "print(\"Hello\")\n",
    "print(\"How are you?\")"
   ]
  },
  {
   "cell_type": "code",
   "execution_count": 1,
   "id": "2335d6ce",
   "metadata": {},
   "outputs": [
    {
     "data": {
      "text/plain": [
       "70221"
      ]
     },
     "execution_count": 1,
     "metadata": {},
     "output_type": "execute_result"
    }
   ],
   "source": [
    "x = 89\n",
    "y = 789\n",
    "x*y"
   ]
  },
  {
   "cell_type": "markdown",
   "id": "19d144c6",
   "metadata": {},
   "source": [
    "# Class 2 (May 12 '24)"
   ]
  },
  {
   "cell_type": "code",
   "execution_count": 2,
   "id": "89659ef6",
   "metadata": {},
   "outputs": [
    {
     "data": {
      "text/plain": [
       "6"
      ]
     },
     "execution_count": 2,
     "metadata": {},
     "output_type": "execute_result"
    }
   ],
   "source": [
    "import text as t\n",
    "t.SUM(2,4)"
   ]
  },
  {
   "cell_type": "code",
   "execution_count": 6,
   "id": "ccbda6f3",
   "metadata": {},
   "outputs": [],
   "source": [
    "# help(t)"
   ]
  },
  {
   "cell_type": "code",
   "execution_count": 5,
   "id": "a9b2e08d",
   "metadata": {},
   "outputs": [],
   "source": [
    "# dir(t)"
   ]
  },
  {
   "cell_type": "code",
   "execution_count": 7,
   "id": "7fa24155",
   "metadata": {},
   "outputs": [
    {
     "data": {
      "text/plain": [
       "5.9288888888888895e-27"
      ]
     },
     "execution_count": 7,
     "metadata": {},
     "output_type": "execute_result"
    }
   ],
   "source": [
    "t.F_grav(2,4,3)"
   ]
  },
  {
   "cell_type": "code",
   "execution_count": null,
   "id": "26af5673",
   "metadata": {},
   "outputs": [],
   "source": []
  }
 ],
 "metadata": {
  "kernelspec": {
   "display_name": "Python 3 (ipykernel)",
   "language": "python",
   "name": "python3"
  },
  "language_info": {
   "codemirror_mode": {
    "name": "ipython",
    "version": 3
   },
   "file_extension": ".py",
   "mimetype": "text/x-python",
   "name": "python",
   "nbconvert_exporter": "python",
   "pygments_lexer": "ipython3",
   "version": "3.11.3"
  }
 },
 "nbformat": 4,
 "nbformat_minor": 5
}
