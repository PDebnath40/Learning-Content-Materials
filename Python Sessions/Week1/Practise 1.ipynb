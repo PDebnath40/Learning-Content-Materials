{
 "cells": [
  {
   "cell_type": "code",
   "execution_count": 1,
   "id": "fff7ee2d",
   "metadata": {},
   "outputs": [
    {
     "name": "stdout",
     "output_type": "stream",
     "text": [
      "Hello\n",
      "How are you?\n"
     ]
    }
   ],
   "source": [
    "print(\"Hello\")\n",
    "print(\"How are you?\")"
   ]
  },
  {
   "cell_type": "code",
   "execution_count": 1,
   "id": "2335d6ce",
   "metadata": {},
   "outputs": [
    {
     "data": {
      "text/plain": [
       "70221"
      ]
     },
     "execution_count": 1,
     "metadata": {},
     "output_type": "execute_result"
    }
   ],
   "source": [
    "x = 89\n",
    "y = 789\n",
    "x*y"
   ]
  },
  {
   "cell_type": "markdown",
   "id": "bd5ba4b9",
   "metadata": {},
   "source": [
    "# Class 2 (May 12 '24)"
   ]
  },
  {
   "cell_type": "code",
   "execution_count": 2,
   "id": "85e53d6e",
   "metadata": {},
   "outputs": [
    {
     "data": {
      "text/plain": [
       "6"
      ]
     },
     "execution_count": 2,
     "metadata": {},
     "output_type": "execute_result"
    }
   ],
   "source": [
    "import text as t\n",
    "t.SUM(2,4)"
   ]
  },
  {
   "cell_type": "code",
   "execution_count": 6,
   "id": "8e9d532c",
   "metadata": {},
   "outputs": [],
   "source": [
    "# help(t)"
   ]
  },
  {
   "cell_type": "code",
   "execution_count": 5,
   "id": "f468ad72",
   "metadata": {},
   "outputs": [],
   "source": [
    "# dir(t)"
   ]
  },
  {
   "cell_type": "code",
   "execution_count": 7,
   "id": "6c7334bb",
   "metadata": {},
   "outputs": [
    {
     "data": {
      "text/plain": [
       "5.9288888888888895e-27"
      ]
     },
     "execution_count": 7,
     "metadata": {},
     "output_type": "execute_result"
    }
   ],
   "source": [
    "t.F_grav(2,4,3)"
   ]
  },
  {
   "cell_type": "markdown",
   "id": "8b4abd58",
   "metadata": {},
   "source": [
    "# Class 3 (May 13 '24)\n",
    "\n",
    "## **Write a program to check eligibility of a person to vote**"
   ]
  },
  {
   "cell_type": "code",
   "execution_count": 10,
   "id": "dad29d94",
   "metadata": {},
   "outputs": [
    {
     "name": "stdout",
     "output_type": "stream",
     "text": [
      "Enter your age:28\n",
      "Can vote\n"
     ]
    }
   ],
   "source": [
    "age= float(input(\"Enter your age:\"))\n",
    "if age >= 18:\n",
    "    result= \"Can vote\"\n",
    "else:\n",
    "    result= \"Can't vote\"\n",
    "print(result)\n",
    "    "
   ]
  },
  {
   "cell_type": "markdown",
   "id": "4653fb6a",
   "metadata": {},
   "source": [
    "## **Write a program to find out whether a number is divisible by 7** "
   ]
  },
  {
   "cell_type": "code",
   "execution_count": 12,
   "id": "357953b3",
   "metadata": {},
   "outputs": [
    {
     "name": "stdout",
     "output_type": "stream",
     "text": [
      "Enter a number:49\n",
      "Divisible\n"
     ]
    }
   ],
   "source": [
    "num= float(input(\"Enter a number:\"))\n",
    "if num % 7 == 0:\n",
    "    result= \"Divisible\"\n",
    "else:\n",
    "    result= \"Not divisible\"\n",
    "print(result)"
   ]
  },
  {
   "cell_type": "code",
   "execution_count": null,
   "id": "658e5e20",
   "metadata": {},
   "outputs": [],
   "source": []
  }
 ],
 "metadata": {
  "kernelspec": {
   "display_name": "Python 3 (ipykernel)",
   "language": "python",
   "name": "python3"
  },
  "language_info": {
   "codemirror_mode": {
    "name": "ipython",
    "version": 3
   },
   "file_extension": ".py",
   "mimetype": "text/x-python",
   "name": "python",
   "nbconvert_exporter": "python",
   "pygments_lexer": "ipython3",
   "version": "3.11.3"
  }
 },
 "nbformat": 4,
 "nbformat_minor": 5
}
