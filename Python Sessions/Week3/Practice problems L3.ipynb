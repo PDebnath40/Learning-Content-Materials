{
 "cells": [
  {
   "cell_type": "markdown",
   "id": "bf32952b",
   "metadata": {},
   "source": [
    "### Q1. Insert an asterisk (*) between identical characters in the given string\n",
    "Input: Heroo Virred \n",
    "\n",
    "Output: Hero* Vir*ed"
   ]
  },
  {
   "cell_type": "code",
   "execution_count": null,
   "id": "81afd557",
   "metadata": {},
   "outputs": [],
   "source": []
  },
  {
   "cell_type": "markdown",
   "id": "69837ab3",
   "metadata": {},
   "source": [
    "### Q2. For a given list of ages, write a Python program to print whether he/she is eligible to vote or not.\n",
    "age = [74, 47, 12, 21, 15, 19, 18, 9, 90]"
   ]
  },
  {
   "cell_type": "code",
   "execution_count": null,
   "id": "8b94a626",
   "metadata": {},
   "outputs": [],
   "source": []
  },
  {
   "cell_type": "markdown",
   "id": "bf70a6e6",
   "metadata": {},
   "source": [
    "### Q3. Print all the even numbers in between 1 and 20 using list comprehension.\n"
   ]
  },
  {
   "cell_type": "code",
   "execution_count": null,
   "id": "ec607e71",
   "metadata": {},
   "outputs": [],
   "source": []
  },
  {
   "cell_type": "markdown",
   "id": "9c0e86ac",
   "metadata": {},
   "source": [
    "### Q4. Classify the given list of numbers as even or odd.\n",
    "number = [4, 8, 7, 1, 12, 21, 29, 77, 48, 52, 17]\n"
   ]
  },
  {
   "cell_type": "code",
   "execution_count": null,
   "id": "01ec7afd",
   "metadata": {},
   "outputs": [],
   "source": []
  },
  {
   "cell_type": "markdown",
   "id": "13ba34b7",
   "metadata": {},
   "source": [
    "### Q5. Write a python program to find the number in between 1 and 20 to which are not divisible by 3 or 5. (using list comprehension)\n"
   ]
  },
  {
   "cell_type": "code",
   "execution_count": null,
   "id": "ee1f5c1a",
   "metadata": {},
   "outputs": [],
   "source": []
  },
  {
   "cell_type": "markdown",
   "id": "160b2ee6",
   "metadata": {},
   "source": [
    "### Q6. Write a python program to print the given word in upper case\n",
    "Input: Hello World\n",
    "\n",
    "Output: HELLO WORLD"
   ]
  },
  {
   "cell_type": "code",
   "execution_count": null,
   "id": "30044d3c",
   "metadata": {},
   "outputs": [],
   "source": []
  },
  {
   "cell_type": "code",
   "execution_count": null,
   "id": "b8e915bd",
   "metadata": {},
   "outputs": [],
   "source": []
  },
  {
   "cell_type": "markdown",
   "id": "1d125efa",
   "metadata": {},
   "source": [
    "### Q7. Write a Python program that counts how many times a specific word appears in a string. (Using List Comprehension)\n",
    "\n",
    "For Example:\n",
    "    \n",
    "```python\n",
    "Input : \"The quick brown fox jumps over the lazy dog\"\n",
    "\n",
    "target_word = \"the\"\n",
    "\n",
    "Output : The word 'the' appears 2 times in the string.\n",
    "```"
   ]
  },
  {
   "cell_type": "code",
   "execution_count": null,
   "id": "31b19103",
   "metadata": {},
   "outputs": [],
   "source": []
  },
  {
   "cell_type": "markdown",
   "id": "25d0cee4",
   "metadata": {},
   "source": [
    "### Q8. Filter the given string with the words having length greater than 3. (Using List comprehension)\n",
    "\n",
    "\n",
    "For Example:\n",
    "\n",
    "Input : \"The quick brown fox jumps over the lazy dog\"\n",
    "\n",
    "Output : \"quick brown jumps over lazy\"\n"
   ]
  },
  {
   "cell_type": "code",
   "execution_count": null,
   "id": "0a4bbd84",
   "metadata": {},
   "outputs": [],
   "source": []
  },
  {
   "cell_type": "markdown",
   "id": "bdd56672",
   "metadata": {},
   "source": [
    "### Q9. Write a program to find the unique vowels present in the string\n",
    "\n",
    "Input : \"Hero Vired\"\n",
    "\n",
    "Output: {'e','o','i'}"
   ]
  },
  {
   "cell_type": "code",
   "execution_count": null,
   "id": "358345e1",
   "metadata": {},
   "outputs": [],
   "source": []
  },
  {
   "cell_type": "markdown",
   "id": "fbc98084",
   "metadata": {},
   "source": [
    "### Q10. Write a Python Program to Reorder a List According to Given Indexes.\n",
    "Input:\n",
    "lst= [10, 20, 30, 40, 50, 60]\n",
    "\n",
    "index= [4, 3, 5, 0, 1, 2]\n",
    "\n",
    "Output:\n",
    "The given list after reordering according to the given indexes list :\n",
    "\n",
    "[40 50 60 20 10 30]\n",
    "\n",
    "The Index list after reordering:\n",
    "\n",
    "[0 1 2 3 4 5]"
   ]
  },
  {
   "cell_type": "markdown",
   "id": "00d3f102",
   "metadata": {},
   "source": []
  },
  {
   "cell_type": "markdown",
   "id": "839842be",
   "metadata": {},
   "source": [
    "### Q11. Write a program in Python to count the number of duplicates in a list of numbers.\n",
    "Input : numbers = [4,2,5,8,4,5,7,3,5,8,1,5,4]\n",
    "\n",
    "Output : \n",
    "\n",
    "The number 4 is repeated 3 times\n",
    "\n",
    "The number 5 is repeated 4 times\n",
    "\n",
    "The number 8 is repeated 2 times"
   ]
  },
  {
   "cell_type": "code",
   "execution_count": null,
   "id": "b6cf1b62",
   "metadata": {},
   "outputs": [],
   "source": []
  },
  {
   "cell_type": "markdown",
   "id": "9620415f",
   "metadata": {},
   "source": [
    "### Q12. Write a Python program to determine the direction ('increasing' or 'decreasing') of a sequence of numbers.\n",
    "Input:\n",
    "[1,2,3,4,5,6]\n",
    "\n",
    "Output:\n",
    "Increasing\n",
    "\n",
    "Input:\n",
    "[6, 5, 4, 3, 2, 1]\n",
    "\n",
    "Output:\n",
    "Decreasing\n",
    "\n",
    "Input:\n",
    "[19, 20, 5, 16, 17, 11, 5\n",
    "\n",
    "Output:\n",
    "Not a sequence\n"
   ]
  },
  {
   "cell_type": "code",
   "execution_count": null,
   "id": "eabace12",
   "metadata": {},
   "outputs": [],
   "source": []
  },
  {
   "cell_type": "markdown",
   "id": "a8c48e46",
   "metadata": {},
   "source": [
    "### Q13. Write a Python program to find the count of characters present in the string.\n",
    "For example: \n",
    "Input:\n",
    "string =  machine learning\n",
    "\n",
    "Output: \n",
    "{m: 1, a: 2, c:1, h:1, i:2, n:3, e:2, l:1, r:1, g:1}"
   ]
  },
  {
   "cell_type": "code",
   "execution_count": null,
   "id": "ee62e358",
   "metadata": {},
   "outputs": [],
   "source": []
  },
  {
   "cell_type": "markdown",
   "id": "589b380a",
   "metadata": {},
   "source": [
    "### You are given the area of different places of a house in inches. (Using Dictionary comprehension)\n",
    "#### Q14. Convert the area in measure of feet.\n",
    "\n",
    "Input: {'Bedroom': 14400, 'Kitchen': 7200, 'Bathroom': 9000, 'Hall': 10800}\n",
    "\n",
    "Output: {'Bedroom': 100, 'Kitchen': 50, 'Bathroom': 62.5, 'Hall': 75}\n",
    "\n",
    "Hint : 1 foot = 12 inches\n"
   ]
  },
  {
   "cell_type": "code",
   "execution_count": null,
   "id": "164a3f67",
   "metadata": {},
   "outputs": [],
   "source": []
  },
  {
   "cell_type": "markdown",
   "id": "d16fee68",
   "metadata": {},
   "source": [
    "#### Q15. Find the places of the house consuming more than 50 square feet of area."
   ]
  },
  {
   "cell_type": "code",
   "execution_count": null,
   "id": "c84c0e2a",
   "metadata": {},
   "outputs": [],
   "source": []
  },
  {
   "cell_type": "markdown",
   "id": "21dd58c8",
   "metadata": {},
   "source": [
    "#### Q16. Find the place of the house consuming more than 60 and less than 80 square feet area."
   ]
  },
  {
   "cell_type": "code",
   "execution_count": null,
   "id": "fff7c1b9",
   "metadata": {},
   "outputs": [],
   "source": []
  },
  {
   "cell_type": "markdown",
   "id": "4c1c3ed0",
   "metadata": {},
   "source": [
    "### Q17. Write a Python program to find and print  the indices all the pairs of numbers from a list that add up to a specific target sum.\n",
    "\n",
    "For example, for a given list [2, 7, 11, 15] and a target of 9, the program should output (0,1)."
   ]
  },
  {
   "cell_type": "code",
   "execution_count": null,
   "id": "276e2708",
   "metadata": {},
   "outputs": [],
   "source": []
  },
  {
   "cell_type": "markdown",
   "id": "cbcf1833",
   "metadata": {},
   "source": [
    "### Q18. Write a Python program that takes a string as input and prints a new string where the case of letters is swapped (uppercase letters become lowercase and vice versa). (Using list comprehension)\n",
    "\n",
    "Input : cApITal \n",
    "\n",
    "Output : CaPitAL"
   ]
  },
  {
   "cell_type": "code",
   "execution_count": null,
   "id": "477ee8d8",
   "metadata": {},
   "outputs": [],
   "source": []
  },
  {
   "cell_type": "markdown",
   "id": "4f6ba986",
   "metadata": {},
   "source": [
    "### Q19.  You are given the data of different fruits bought by a retailer.\n",
    "\n",
    "fruits = [\"apples\",\"oranges\",\"bananas\",\"melons\"]\n",
    "\n",
    "prices = [20,10,5,15]\n",
    "\n",
    "quantities = [5,7,3,4]\n",
    "\n",
    "Write a Python program to print the bill as given below:\n",
    "\n",
    "Output:\n",
    "\n",
    "You bought 5 apples for 100\n",
    "\n",
    "You bought 7 oranges for 70\n",
    "\n",
    "You bought 3 bananas for 15\n",
    "\n",
    "You bought 4 melons for 60"
   ]
  },
  {
   "cell_type": "code",
   "execution_count": null,
   "id": "6a608b7e",
   "metadata": {},
   "outputs": [],
   "source": []
  },
  {
   "cell_type": "markdown",
   "id": "693723c4",
   "metadata": {},
   "source": [
    "### Q20. Write a Python program to convert the given matrix in to a list.\n",
    "\n",
    "Input: matrix = [[1, 2], [3,4], [5,6], [7,8]]\n",
    "    \n",
    "Output: [1, 2, 3, 4, 5, 6, 7, 8]"
   ]
  },
  {
   "cell_type": "code",
   "execution_count": null,
   "id": "539f6577",
   "metadata": {},
   "outputs": [],
   "source": []
  }
 ],
 "metadata": {
  "kernelspec": {
   "display_name": "Python 3 (ipykernel)",
   "language": "python",
   "name": "python3"
  },
  "language_info": {
   "codemirror_mode": {
    "name": "ipython",
    "version": 3
   },
   "file_extension": ".py",
   "mimetype": "text/x-python",
   "name": "python",
   "nbconvert_exporter": "python",
   "pygments_lexer": "ipython3",
   "version": "3.11.3"
  }
 },
 "nbformat": 4,
 "nbformat_minor": 5
}
