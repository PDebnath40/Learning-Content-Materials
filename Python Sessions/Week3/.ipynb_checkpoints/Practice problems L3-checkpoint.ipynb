{
 "cells": [
  {
   "cell_type": "markdown",
   "id": "bf32952b",
   "metadata": {},
   "source": [
    "### Q1. Insert an asterisk (*) between identical characters in the given string\n",
    "Input: Heroo Virred \n",
    "\n",
    "Output: Hero* Vir*ed"
   ]
  },
  {
   "cell_type": "code",
   "execution_count": 138,
   "id": "81afd557",
   "metadata": {},
   "outputs": [
    {
     "name": "stdout",
     "output_type": "stream",
     "text": [
      "Hero*o Vir*red\n"
     ]
    }
   ],
   "source": [
    "Input= 'Heroo Virred'\n",
    "\n",
    "new = ''\n",
    "for i in range(len(Input) - 1):\n",
    "    new = new + Input[i]\n",
    "    if Input[i] == Input[i+1]:\n",
    "        new += '*'\n",
    "    \n",
    "new += Input[-1]\n",
    "    \n",
    "print(new)"
   ]
  },
  {
   "cell_type": "markdown",
   "id": "69837ab3",
   "metadata": {},
   "source": [
    "### Q2. For a given list of ages, write a Python program to print whether he/she is eligible to vote or not.\n",
    "age = [74, 47, 12, 21, 15, 19, 18, 9, 90]"
   ]
  },
  {
   "cell_type": "code",
   "execution_count": 141,
   "id": "dcf2721d",
   "metadata": {},
   "outputs": [
    {
     "name": "stdout",
     "output_type": "stream",
     "text": [
      "AGe: 5\n",
      "Do you wan to continue add elements: y\n",
      "AGe: 8\n",
      "Do you wan to continue add elements: y\n",
      "AGe: 18\n",
      "Do you wan to continue add elements: 23\n"
     ]
    }
   ],
   "source": [
    "a = []\n",
    "\n",
    "while True:\n",
    "    In = float(input(\"AGe: \"))\n",
    "    a.append(In)\n",
    "    n = input(\"Do you wan to continue add elements: \")\n",
    "    if n.lower() != 'y':\n",
    "               break"
   ]
  },
  {
   "cell_type": "code",
   "execution_count": 142,
   "id": "1244d619",
   "metadata": {},
   "outputs": [
    {
     "data": {
      "text/plain": [
       "[5.0, 8.0, 18.0]"
      ]
     },
     "execution_count": 142,
     "metadata": {},
     "output_type": "execute_result"
    }
   ],
   "source": [
    "a"
   ]
  },
  {
   "cell_type": "code",
   "execution_count": 152,
   "id": "33aa5f33",
   "metadata": {},
   "outputs": [
    {
     "name": "stdout",
     "output_type": "stream",
     "text": [
      "How many element want to add: 5\n",
      "value: 22\n",
      "value: 33\n",
      "value: 11\n",
      "value: 23\n",
      "value: 43\n"
     ]
    }
   ],
   "source": [
    "n = int(input(\"How many element want to add: \"))\n",
    "\n",
    "a1 = []\n",
    "for x in range(n):\n",
    "    i = int(input(\"value: \"))\n",
    "    a1.append(i)"
   ]
  },
  {
   "cell_type": "code",
   "execution_count": 153,
   "id": "16331f6f",
   "metadata": {},
   "outputs": [
    {
     "data": {
      "text/plain": [
       "[22, 33, 11, 23, 43]"
      ]
     },
     "execution_count": 153,
     "metadata": {},
     "output_type": "execute_result"
    }
   ],
   "source": [
    "a1"
   ]
  },
  {
   "cell_type": "code",
   "execution_count": null,
   "id": "0ae0cbe3",
   "metadata": {},
   "outputs": [],
   "source": []
  },
  {
   "cell_type": "code",
   "execution_count": 143,
   "id": "948d0e37",
   "metadata": {},
   "outputs": [
    {
     "name": "stdout",
     "output_type": "stream",
     "text": [
      "Enter list:2,4,6\n"
     ]
    }
   ],
   "source": [
    "lst= list(input(\"Enter list:\"))"
   ]
  },
  {
   "cell_type": "code",
   "execution_count": 146,
   "id": "ad03fa43",
   "metadata": {},
   "outputs": [
    {
     "name": "stdout",
     "output_type": "stream",
     "text": [
      "Enter the age with sperated by - : 12-33-21-22-33-44\n"
     ]
    }
   ],
   "source": [
    "l = input(\"Enter the age with sperated by - : \").split('-')\n",
    "\n",
    "lst = [int(x) for x in l]"
   ]
  },
  {
   "cell_type": "code",
   "execution_count": 147,
   "id": "97440670",
   "metadata": {},
   "outputs": [
    {
     "data": {
      "text/plain": [
       "[12, 33, 21, 22, 33, 44]"
      ]
     },
     "execution_count": 147,
     "metadata": {},
     "output_type": "execute_result"
    }
   ],
   "source": [
    "lst"
   ]
  },
  {
   "cell_type": "code",
   "execution_count": 148,
   "id": "ee9a3185",
   "metadata": {},
   "outputs": [],
   "source": [
    "s = \"hello python, How are you?\""
   ]
  },
  {
   "cell_type": "code",
   "execution_count": 150,
   "id": "501c0b36",
   "metadata": {},
   "outputs": [
    {
     "data": {
      "text/plain": [
       "['hello python', ' How are you?']"
      ]
     },
     "execution_count": 150,
     "metadata": {},
     "output_type": "execute_result"
    }
   ],
   "source": [
    "s.split(',')"
   ]
  },
  {
   "cell_type": "code",
   "execution_count": null,
   "id": "7ee436f4",
   "metadata": {},
   "outputs": [],
   "source": []
  },
  {
   "cell_type": "code",
   "execution_count": null,
   "id": "88e92eb1",
   "metadata": {},
   "outputs": [],
   "source": []
  },
  {
   "cell_type": "code",
   "execution_count": 4,
   "id": "8b94a626",
   "metadata": {},
   "outputs": [
    {
     "name": "stdout",
     "output_type": "stream",
     "text": [
      "[74, 47, 21, 19, 18, 90]\n"
     ]
    }
   ],
   "source": [
    "age = [74, 47, 12, 21, 15, 19, 18, 9, 90]\n",
    "vote= [ i for i in age if i >= 18]\n",
    "print(vote)"
   ]
  },
  {
   "cell_type": "markdown",
   "id": "bf70a6e6",
   "metadata": {},
   "source": [
    "### Q3. Print all the even numbers in between 1 and 20 using list comprehension.\n"
   ]
  },
  {
   "cell_type": "code",
   "execution_count": 6,
   "id": "ec607e71",
   "metadata": {},
   "outputs": [
    {
     "data": {
      "text/plain": [
       "[2, 4, 6, 8, 10, 12, 14, 16, 18, 20]"
      ]
     },
     "execution_count": 6,
     "metadata": {},
     "output_type": "execute_result"
    }
   ],
   "source": [
    "[ i for i in range(1,21) if i%2==0]"
   ]
  },
  {
   "cell_type": "markdown",
   "id": "9c0e86ac",
   "metadata": {},
   "source": [
    "### Q4. Classify the given list of numbers as even or odd.\n",
    "number = [4, 8, 7, 1, 12, 21, 29, 77, 48, 52, 17]\n"
   ]
  },
  {
   "cell_type": "code",
   "execution_count": 10,
   "id": "01ec7afd",
   "metadata": {},
   "outputs": [
    {
     "name": "stdout",
     "output_type": "stream",
     "text": [
      "[4, 8, 12, 48, 52]\n",
      "[7, 1, 21, 29, 77, 17]\n"
     ]
    }
   ],
   "source": [
    "number = [4, 8, 7, 1, 12, 21, 29, 77, 48, 52, 17]\n",
    "even= [i for i in number if i % 2== 0]\n",
    "odd= [i for i in number if i % 2== 1]\n",
    "print(even)\n",
    "print(odd)"
   ]
  },
  {
   "cell_type": "markdown",
   "id": "13ba34b7",
   "metadata": {},
   "source": [
    "### Q5. Write a python program to find the number in between 1 and 20 to which are not divisible by 3 or 5. (using list comprehension)\n"
   ]
  },
  {
   "cell_type": "code",
   "execution_count": 12,
   "id": "ee1f5c1a",
   "metadata": {},
   "outputs": [
    {
     "data": {
      "text/plain": [
       "[1, 2, 4, 7, 8, 11, 13, 14, 16, 17, 19]"
      ]
     },
     "execution_count": 12,
     "metadata": {},
     "output_type": "execute_result"
    }
   ],
   "source": [
    "[i for i in range(21) if i % 3 != 0 and i % 5 != 0]"
   ]
  },
  {
   "cell_type": "markdown",
   "id": "160b2ee6",
   "metadata": {},
   "source": [
    "### Q6. Write a python program to print the given word in upper case\n",
    "Input: Hello World\n",
    "\n",
    "Output: HELLO WORLD"
   ]
  },
  {
   "cell_type": "code",
   "execution_count": 21,
   "id": "30044d3c",
   "metadata": {},
   "outputs": [],
   "source": [
    "Input= 'Hello World'"
   ]
  },
  {
   "cell_type": "code",
   "execution_count": 22,
   "id": "b8e915bd",
   "metadata": {},
   "outputs": [
    {
     "name": "stdout",
     "output_type": "stream",
     "text": [
      "HELLO WORLD\n"
     ]
    }
   ],
   "source": [
    "\n",
    "st= ''\n",
    "for i in Input:\n",
    "    st+=i.upper()\n",
    "\n",
    "print(st)"
   ]
  },
  {
   "cell_type": "markdown",
   "id": "1d125efa",
   "metadata": {},
   "source": [
    "### Q7. Write a Python program that counts how many times a specific word appears in a string. (Using List Comprehension)\n",
    "\n",
    "For Example:\n",
    "    \n",
    "```python\n",
    "Input : \"The quick brown fox jumps over the lazy dog\"\n",
    "\n",
    "target_word = \"the\"\n",
    "\n",
    "Output : The word 'the' appears 2 times in the string.\n",
    "```"
   ]
  },
  {
   "cell_type": "code",
   "execution_count": 155,
   "id": "31b19103",
   "metadata": {},
   "outputs": [],
   "source": [
    "Input = \"The quick brown fox jumps over the lazy dog\""
   ]
  },
  {
   "cell_type": "code",
   "execution_count": 156,
   "id": "902f4ed0",
   "metadata": {},
   "outputs": [],
   "source": [
    "target_word = \"the\""
   ]
  },
  {
   "cell_type": "code",
   "execution_count": 157,
   "id": "7772c0fb",
   "metadata": {},
   "outputs": [
    {
     "data": {
      "text/plain": [
       "['The', 'quick', 'brown', 'fox', 'jumps', 'over', 'the', 'lazy', 'dog']"
      ]
     },
     "execution_count": 157,
     "metadata": {},
     "output_type": "execute_result"
    }
   ],
   "source": [
    "lst= Input.split()\n",
    "lst"
   ]
  },
  {
   "cell_type": "code",
   "execution_count": 159,
   "id": "02816f60",
   "metadata": {},
   "outputs": [
    {
     "name": "stdout",
     "output_type": "stream",
     "text": [
      "The\n",
      "the\n"
     ]
    }
   ],
   "source": [
    "for x in lst:\n",
    "    if x.lower() == target_word:\n",
    "        print(x)"
   ]
  },
  {
   "cell_type": "code",
   "execution_count": 163,
   "id": "9749188c",
   "metadata": {},
   "outputs": [
    {
     "name": "stdout",
     "output_type": "stream",
     "text": [
      "2\n"
     ]
    }
   ],
   "source": [
    "count = 0 \n",
    "for x in lst:\n",
    "    if x.lower() == target_word:\n",
    "        count +=1\n",
    "print(count)"
   ]
  },
  {
   "cell_type": "code",
   "execution_count": 167,
   "id": "5f5bbf0e",
   "metadata": {},
   "outputs": [
    {
     "name": "stdout",
     "output_type": "stream",
     "text": [
      "Text : Custom Demos with gr.Blocks  Gradio also offers a low-level approach for designing web apps with more flexible layouts and data flows with the gr.Blocks class. Blocks allows you to do things like control where components appear on the page, handle complex data flows (e.g. outputs can serve as inputs to other functions), and update properties/visibility of components based on user interaction — still all in Python.  You can build very custom and complex applications using gr.Blocks(). For example, the popular image generation Automatic1111 Web UI is built using Gradio Blocks. We dive deeper into the gr.Blocks on our series on building with Blocks.  The Gradio Python & JavaScript Ecosystem  That’s the gist of the core gradio Python library, but Gradio is actually so much more! Its an entire ecosystem of Python and JavaScript libraries that let you build machine learning applications, or query them programmatically, in Python or JavaScript. Here are other related parts of the Gradio ecosystem:  Gradio Python Client (gradio_client): query any Gradio app programmatically in Python. Gradio JavaScript Client (@gradio/client): query any Gradio app programmatically in JavaScript. Gradio-Lite (@gradio/lite): write Gradio apps in Python that run entirely in the browser (no server needed!), thanks to Pyodide. Hugging Face Spaces: the most popular place to host Gradio applications — for free! What’s Next?\n"
     ]
    }
   ],
   "source": [
    "inp = input(\"Text : \")\n",
    "\n",
    "lst = inp.split()"
   ]
  },
  {
   "cell_type": "code",
   "execution_count": 170,
   "id": "bafbe333",
   "metadata": {},
   "outputs": [
    {
     "name": "stdout",
     "output_type": "stream",
     "text": [
      "search : python\n"
     ]
    }
   ],
   "source": [
    "target_word = input(\"search : \").lower()"
   ]
  },
  {
   "cell_type": "code",
   "execution_count": 171,
   "id": "78f417d4",
   "metadata": {},
   "outputs": [
    {
     "data": {
      "text/plain": [
       "6"
      ]
     },
     "execution_count": 171,
     "metadata": {},
     "output_type": "execute_result"
    }
   ],
   "source": [
    "len([x for x in lst if x.lower() == target_word])"
   ]
  },
  {
   "cell_type": "code",
   "execution_count": null,
   "id": "eaa8f621",
   "metadata": {},
   "outputs": [],
   "source": []
  },
  {
   "cell_type": "code",
   "execution_count": null,
   "id": "b6746b80",
   "metadata": {},
   "outputs": [],
   "source": []
  },
  {
   "cell_type": "code",
   "execution_count": 45,
   "id": "59f6b825",
   "metadata": {},
   "outputs": [
    {
     "data": {
      "text/plain": [
       "[(0, 'The'), (6, 'the')]"
      ]
     },
     "execution_count": 45,
     "metadata": {},
     "output_type": "execute_result"
    }
   ],
   "source": [
    "Input = \"The quick brown fox jumps over the lazy dog\"\n",
    "target_word = \"the\"\n",
    "lst= Input.split()\n",
    "output= [(i,j) for i,j in enumerate(lst) if j.lower() == target_word]\n",
    "output"
   ]
  },
  {
   "cell_type": "code",
   "execution_count": 55,
   "id": "c61a934a",
   "metadata": {},
   "outputs": [
    {
     "ename": "SyntaxError",
     "evalue": "invalid syntax (2084199867.py, line 5)",
     "output_type": "error",
     "traceback": [
      "\u001b[0;36m  Cell \u001b[0;32mIn[55], line 5\u001b[0;36m\u001b[0m\n\u001b[0;31m    output= [s+=1 for i,j in enumerate(lst) if j.lower() == target_word]\u001b[0m\n\u001b[0m              ^\u001b[0m\n\u001b[0;31mSyntaxError\u001b[0m\u001b[0;31m:\u001b[0m invalid syntax\n"
     ]
    }
   ],
   "source": [
    "Input = \"The quick brown fox jumps over the lazy dog\"\n",
    "target_word = \"the\"\n",
    "lst= Input.split()\n",
    "s=0\n",
    "output= [s+=1 for i,j in enumerate(lst) if j.lower() == target_word]\n",
    "output"
   ]
  },
  {
   "cell_type": "code",
   "execution_count": 54,
   "id": "90a08b67",
   "metadata": {},
   "outputs": [
    {
     "name": "stdout",
     "output_type": "stream",
     "text": [
      "The word the appears 2 times in the string\n"
     ]
    }
   ],
   "source": [
    "Input = \"The quick brown fox jumps over the lazy dog\"\n",
    "target_word = \"the\"\n",
    "lst= Input.split()\n",
    "s=0\n",
    "for i, j in enumerate(lst):\n",
    "    if j.lower() == target_word:\n",
    "        s+=1\n",
    "print(f\"The word {target_word} appears {s} times in the string\")\n"
   ]
  },
  {
   "cell_type": "code",
   "execution_count": null,
   "id": "4b9de906",
   "metadata": {},
   "outputs": [],
   "source": []
  },
  {
   "cell_type": "markdown",
   "id": "25d0cee4",
   "metadata": {},
   "source": [
    "### Q8. Filter the given string with the words having length greater than 3. (Using List comprehension)\n",
    "\n",
    "\n",
    "For Example:\n",
    "\n",
    "Input : \"The quick brown fox jumps over the lazy dog\"\n",
    "\n",
    "Output : \"quick brown jumps over lazy\"\n"
   ]
  },
  {
   "cell_type": "code",
   "execution_count": 50,
   "id": "0a4bbd84",
   "metadata": {},
   "outputs": [
    {
     "data": {
      "text/plain": [
       "['quick', 'brown', 'jumps', 'over', 'lazy']"
      ]
     },
     "execution_count": 50,
     "metadata": {},
     "output_type": "execute_result"
    }
   ],
   "source": [
    "Input = \"The quick brown fox jumps over the lazy dog\"\n",
    "lst= Input.split()\n",
    "[i for i in lst if len(i) > 3]"
   ]
  },
  {
   "cell_type": "code",
   "execution_count": 181,
   "id": "25896f27",
   "metadata": {},
   "outputs": [
    {
     "name": "stdout",
     "output_type": "stream",
     "text": [
      "quick brown jumps over lazy\n"
     ]
    },
    {
     "data": {
      "text/plain": [
       "'quick brown jumps over lazy '"
      ]
     },
     "execution_count": 181,
     "metadata": {},
     "output_type": "execute_result"
    }
   ],
   "source": [
    "Input = \"The quick brown fox jumps over the lazy dog\"\n",
    "lst= Input.split()\n",
    "s = ''\n",
    "for i in lst:\n",
    "    if len(i) > 3:\n",
    "        s += i + ' '\n",
    "print(s.strip())\n",
    "s"
   ]
  },
  {
   "cell_type": "code",
   "execution_count": 184,
   "id": "94938fd0",
   "metadata": {},
   "outputs": [
    {
     "name": "stdout",
     "output_type": "stream",
     "text": [
      "['quick', 'brown', 'jumps', 'over', 'lazy']\n"
     ]
    }
   ],
   "source": [
    "new = []\n",
    "for i in lst:\n",
    "    if len(i) >3:\n",
    "        new.append(i)\n",
    "print(new)"
   ]
  },
  {
   "cell_type": "code",
   "execution_count": 185,
   "id": "9d085027",
   "metadata": {},
   "outputs": [
    {
     "data": {
      "text/plain": [
       "'quick brown jumps over lazy'"
      ]
     },
     "execution_count": 185,
     "metadata": {},
     "output_type": "execute_result"
    }
   ],
   "source": [
    "' '.join(new)  # .join()"
   ]
  },
  {
   "cell_type": "code",
   "execution_count": 189,
   "id": "be8dda24",
   "metadata": {},
   "outputs": [
    {
     "data": {
      "text/plain": [
       "'quick brown jumps over lazy'"
      ]
     },
     "execution_count": 189,
     "metadata": {},
     "output_type": "execute_result"
    }
   ],
   "source": [
    "## list comprehension\n",
    "\n",
    "' '.join([x for x in lst if len(x) >3])"
   ]
  },
  {
   "cell_type": "code",
   "execution_count": null,
   "id": "3763db17",
   "metadata": {},
   "outputs": [],
   "source": []
  },
  {
   "cell_type": "code",
   "execution_count": 178,
   "id": "a092eebe",
   "metadata": {},
   "outputs": [
    {
     "name": "stdout",
     "output_type": "stream",
     "text": [
      "Help on built-in function strip:\n",
      "\n",
      "strip(chars=None, /) method of builtins.str instance\n",
      "    Return a copy of the string with leading and trailing whitespace removed.\n",
      "    \n",
      "    If chars is given and not None, remove characters in chars instead.\n",
      "\n"
     ]
    }
   ],
   "source": [
    "# help(s.strip)"
   ]
  },
  {
   "cell_type": "code",
   "execution_count": null,
   "id": "e08a212c",
   "metadata": {},
   "outputs": [],
   "source": []
  },
  {
   "cell_type": "markdown",
   "id": "bdd56672",
   "metadata": {},
   "source": [
    "### Q9. Write a program to find the unique vowels present in the string\n",
    "\n",
    "Input : \"Hero Vired\"\n",
    "\n",
    "Output: {'e','o','i'}"
   ]
  },
  {
   "cell_type": "code",
   "execution_count": 58,
   "id": "358345e1",
   "metadata": {},
   "outputs": [
    {
     "name": "stdout",
     "output_type": "stream",
     "text": [
      "{'o', 'e', 'i'}\n"
     ]
    }
   ],
   "source": [
    "Input = \"Hero Vireeeod\"\n",
    "s=set()\n",
    "for i in Input:\n",
    "    if i in 'aeiou':\n",
    "        s.add(i)\n",
    "print(s)\n"
   ]
  },
  {
   "cell_type": "markdown",
   "id": "fbc98084",
   "metadata": {},
   "source": [
    "### Q10. Write a Python Program to Reorder a List According to Given Indexes.\n",
    "Input:\n",
    "lst= [10, 20, 30, 40, 50, 60]\n",
    "\n",
    "index= [4, 3, 5, 0, 1, 2]\n",
    "\n",
    "Output:\n",
    "The given list after reordering according to the given indexes list :\n",
    "\n",
    "[40 50 60 20 10 30]\n",
    "\n",
    "The Index list after reordering:\n",
    "\n",
    "[0 1 2 3 4 5]"
   ]
  },
  {
   "cell_type": "code",
   "execution_count": 242,
   "id": "8123d183",
   "metadata": {},
   "outputs": [],
   "source": [
    "lst= [10, 20, 30, 40, 50, 60]\n",
    "index= [4, 3, 5, 0, 1, 2]\n",
    "lst1=[]\n",
    "index1=[]\n",
    "# for i,j in zip(index, lst):\n",
    "#     if i==index:\n",
    "#         lst1.append(j)\n",
    "#         index1.append(i)\n",
    "# print(lst1)\n",
    "# print(index1)\n",
    "        "
   ]
  },
  {
   "cell_type": "code",
   "execution_count": 243,
   "id": "7d9a5569",
   "metadata": {},
   "outputs": [
    {
     "data": {
      "text/plain": [
       "[0, 0, 0, 0, 0, 0]"
      ]
     },
     "execution_count": 243,
     "metadata": {},
     "output_type": "execute_result"
    }
   ],
   "source": [
    "r = [0] * len(lst)\n",
    "r"
   ]
  },
  {
   "cell_type": "code",
   "execution_count": 244,
   "id": "5a3c2008",
   "metadata": {},
   "outputs": [
    {
     "name": "stdout",
     "output_type": "stream",
     "text": [
      "[0, 1, 2, 3, 4, 5] [50, 40, 60, 10, 20, 30]\n"
     ]
    }
   ],
   "source": [
    "l = []\n",
    "indx1 = []\n",
    "for i, j in enumerate(index):\n",
    "    l.append(lst[j])\n",
    "    indx1.append(i)\n",
    "print(indx1, l )"
   ]
  },
  {
   "cell_type": "code",
   "execution_count": 245,
   "id": "4f649f56",
   "metadata": {},
   "outputs": [
    {
     "data": {
      "text/plain": [
       "[50, 40, 60, 10, 20, 30]"
      ]
     },
     "execution_count": 245,
     "metadata": {},
     "output_type": "execute_result"
    }
   ],
   "source": [
    "[( lst[y]) for x, y in enumerate(index)]"
   ]
  },
  {
   "cell_type": "code",
   "execution_count": 246,
   "id": "57f6cbf1",
   "metadata": {},
   "outputs": [
    {
     "data": {
      "text/plain": [
       "([50, 40, 60, 10, 20, 30], [4, 3, 5, 0, 1, 2])"
      ]
     },
     "execution_count": 246,
     "metadata": {},
     "output_type": "execute_result"
    }
   ],
   "source": [
    "[( lst[y]) for y in index], index"
   ]
  },
  {
   "cell_type": "code",
   "execution_count": null,
   "id": "24561082",
   "metadata": {},
   "outputs": [],
   "source": []
  },
  {
   "cell_type": "code",
   "execution_count": null,
   "id": "fe482c91",
   "metadata": {},
   "outputs": [],
   "source": []
  },
  {
   "cell_type": "code",
   "execution_count": 220,
   "id": "5699c77e",
   "metadata": {},
   "outputs": [
    {
     "name": "stdout",
     "output_type": "stream",
     "text": [
      "0 4\n",
      "1 3\n",
      "2 5\n",
      "3 0\n",
      "4 1\n",
      "5 2\n",
      "New Values:  [40, 50, 60, 20, 10, 30]\n",
      "New Index:  [0, 1, 2, 3, 4, 5]\n"
     ]
    }
   ],
   "source": [
    "new_index = []\n",
    "for i, idx in enumerate(index):\n",
    "    print(i, idx)\n",
    "    r[idx] = lst[i]\n",
    "    new_index.append(i)\n",
    "    \n",
    "print(\"New Values: \", r)\n",
    "print(\"New Index: \",new_index)"
   ]
  },
  {
   "cell_type": "code",
   "execution_count": null,
   "id": "b4b54e50",
   "metadata": {},
   "outputs": [],
   "source": []
  },
  {
   "cell_type": "code",
   "execution_count": 194,
   "id": "c13d1861",
   "metadata": {},
   "outputs": [
    {
     "name": "stdout",
     "output_type": "stream",
     "text": [
      "10 4\n",
      "20 3\n",
      "30 5\n",
      "40 0\n",
      "50 1\n",
      "60 2\n"
     ]
    }
   ],
   "source": [
    "for x in range(len(lst)):\n",
    "    if index[x] >= min(index):\n",
    "        \n",
    "        print(lst[x], index[x])"
   ]
  },
  {
   "cell_type": "code",
   "execution_count": 198,
   "id": "27283c65",
   "metadata": {},
   "outputs": [],
   "source": [
    "import pandas as pd\n",
    "d = pd.Series(lst, index)"
   ]
  },
  {
   "cell_type": "code",
   "execution_count": 199,
   "id": "ad77bf22",
   "metadata": {},
   "outputs": [
    {
     "data": {
      "text/plain": [
       "0    40\n",
       "1    50\n",
       "2    60\n",
       "3    20\n",
       "4    10\n",
       "5    30\n",
       "dtype: int64"
      ]
     },
     "execution_count": 199,
     "metadata": {},
     "output_type": "execute_result"
    }
   ],
   "source": [
    "d.sort_index()"
   ]
  },
  {
   "cell_type": "code",
   "execution_count": 200,
   "id": "b8be4f4e",
   "metadata": {},
   "outputs": [],
   "source": [
    "ind = d.index\n",
    "l = d.values"
   ]
  },
  {
   "cell_type": "code",
   "execution_count": null,
   "id": "c07edf40",
   "metadata": {},
   "outputs": [],
   "source": []
  },
  {
   "cell_type": "code",
   "execution_count": null,
   "id": "c770aa68",
   "metadata": {},
   "outputs": [],
   "source": []
  },
  {
   "cell_type": "code",
   "execution_count": null,
   "id": "9bd6b49a",
   "metadata": {},
   "outputs": [],
   "source": []
  },
  {
   "cell_type": "code",
   "execution_count": null,
   "id": "679730ff",
   "metadata": {},
   "outputs": [],
   "source": []
  },
  {
   "cell_type": "code",
   "execution_count": 201,
   "id": "053657ea",
   "metadata": {},
   "outputs": [
    {
     "data": {
      "text/plain": [
       "Int64Index([4, 3, 5, 0, 1, 2], dtype='int64')"
      ]
     },
     "execution_count": 201,
     "metadata": {},
     "output_type": "execute_result"
    }
   ],
   "source": [
    "ind"
   ]
  },
  {
   "cell_type": "code",
   "execution_count": 202,
   "id": "7d9aec28",
   "metadata": {},
   "outputs": [
    {
     "data": {
      "text/plain": [
       "array([10, 20, 30, 40, 50, 60])"
      ]
     },
     "execution_count": 202,
     "metadata": {},
     "output_type": "execute_result"
    }
   ],
   "source": [
    "l"
   ]
  },
  {
   "cell_type": "markdown",
   "id": "00d3f102",
   "metadata": {},
   "source": []
  },
  {
   "cell_type": "markdown",
   "id": "839842be",
   "metadata": {},
   "source": [
    "### Q11. Write a program in Python to count the number of duplicates in a list of numbers.\n",
    "Input : numbers = [4,2,5,8,4,5,7,3,5,8,1,5,4]\n",
    "\n",
    "Output : \n",
    "\n",
    "The number 4 is repeated 3 times\n",
    "\n",
    "The number 5 is repeated 4 times\n",
    "\n",
    "The number 8 is repeated 2 times"
   ]
  },
  {
   "cell_type": "code",
   "execution_count": 249,
   "id": "b6cf1b62",
   "metadata": {},
   "outputs": [
    {
     "name": "stdout",
     "output_type": "stream",
     "text": [
      "{4: 3, 2: 1, 5: 4, 8: 2, 7: 1, 3: 1, 1: 1}\n"
     ]
    }
   ],
   "source": [
    "numbers = [4,2,5,8,4,5,7,3,5,8,1,5,4]\n",
    "\n",
    "dict1 = {}\n",
    "for i in numbers:\n",
    "    if i in dict1:\n",
    "        dict1[i] += 1\n",
    "    else:\n",
    "        dict1[i] = 1\n",
    "print(n)\n",
    "    "
   ]
  },
  {
   "cell_type": "code",
   "execution_count": 251,
   "id": "0b6587f3",
   "metadata": {},
   "outputs": [
    {
     "data": {
      "text/plain": [
       "True"
      ]
     },
     "execution_count": 251,
     "metadata": {},
     "output_type": "execute_result"
    }
   ],
   "source": [
    "d = {'p': 'fds'}\n",
    "'p' in d"
   ]
  },
  {
   "cell_type": "code",
   "execution_count": 258,
   "id": "4e1bdf1b",
   "metadata": {},
   "outputs": [
    {
     "name": "stdout",
     "output_type": "stream",
     "text": [
      "{4: 3, 2: 1, 5: 4, 8: 2, 7: 1, 3: 1, 1: 1}\n"
     ]
    }
   ],
   "source": [
    "d = {}\n",
    "\n",
    "for i in numbers:\n",
    "    if i in d:\n",
    "        d[i] += 1\n",
    "    else: \n",
    "        d[i] = 1\n",
    "print(d)"
   ]
  },
  {
   "cell_type": "code",
   "execution_count": null,
   "id": "b026f753",
   "metadata": {},
   "outputs": [],
   "source": []
  },
  {
   "cell_type": "code",
   "execution_count": null,
   "id": "a4f509eb",
   "metadata": {},
   "outputs": [],
   "source": []
  },
  {
   "cell_type": "code",
   "execution_count": null,
   "id": "655bc37f",
   "metadata": {},
   "outputs": [],
   "source": []
  },
  {
   "cell_type": "markdown",
   "id": "9620415f",
   "metadata": {},
   "source": [
    "### Q12. Write a Python program to determine the direction ('increasing' or 'decreasing') of a sequence of numbers.\n",
    "Input:\n",
    "[1,2,3,4,5,6]\n",
    "\n",
    "Output:\n",
    "Increasing\n",
    "\n",
    "Input:\n",
    "[6, 5, 4, 3, 2, 1]\n",
    "\n",
    "Output:\n",
    "Decreasing\n",
    "\n",
    "Input:\n",
    "[19, 20, 5, 16, 17, 11, 5\n",
    "\n",
    "Output:\n",
    "Not a sequence\n"
   ]
  },
  {
   "cell_type": "code",
   "execution_count": 267,
   "id": "eabace12",
   "metadata": {},
   "outputs": [
    {
     "name": "stdout",
     "output_type": "stream",
     "text": [
      "Yes, desecing order\n"
     ]
    }
   ],
   "source": [
    "Input= [6, 5, 4, 3, 2, 1]\n",
    "for i in range(len(Input)):\n",
    "    \n",
    "    if Input[i- 1] < Input[i ]:\n",
    "        print(\"Yes, desecing order\")\n",
    "        break\n",
    "    else:\n",
    "        print(\"Ass\")\n",
    "    "
   ]
  },
  {
   "cell_type": "markdown",
   "id": "a8c48e46",
   "metadata": {},
   "source": [
    "### Q13. Write a Python program to find the count of characters present in the string.\n",
    "For example: \n",
    "Input:\n",
    "string =  machine learning\n",
    "\n",
    "Output: \n",
    "{m: 1, a: 2, c:1, h:1, i:2, n:3, e:2, l:1, r:1, g:1}"
   ]
  },
  {
   "cell_type": "code",
   "execution_count": null,
   "id": "ee62e358",
   "metadata": {},
   "outputs": [],
   "source": []
  },
  {
   "cell_type": "markdown",
   "id": "589b380a",
   "metadata": {},
   "source": [
    "### You are given the area of different places of a house in inches. (Using Dictionary comprehension)\n",
    "#### Q14. Convert the area in measure of feet.\n",
    "\n",
    "Input: {'Bedroom': 14400, 'Kitchen': 7200, 'Bathroom': 9000, 'Hall': 10800}\n",
    "\n",
    "Output: {'Bedroom': 100, 'Kitchen': 50, 'Bathroom': 62.5, 'Hall': 75}\n",
    "\n",
    "Hint : 1 foot = 12 inches\n"
   ]
  },
  {
   "cell_type": "code",
   "execution_count": 68,
   "id": "164a3f67",
   "metadata": {},
   "outputs": [
    {
     "name": "stdout",
     "output_type": "stream",
     "text": [
      "Output: {'Bedroom': 100.0, 'Kitchen': 50.0, 'Bathroom': 62.5, 'Hall': 75.0}\n"
     ]
    }
   ],
   "source": [
    "Input= {'Bedroom': 14400, 'Kitchen': 7200, 'Bathroom': 9000, 'Hall': 10800}\n",
    "for i in Input:\n",
    "    Input[i]/= 144\n",
    "print(f'Output: {Input}')"
   ]
  },
  {
   "cell_type": "markdown",
   "id": "d16fee68",
   "metadata": {},
   "source": [
    "#### Q15. Find the places of the house consuming more than 50 square feet of area."
   ]
  },
  {
   "cell_type": "code",
   "execution_count": 90,
   "id": "c84c0e2a",
   "metadata": {},
   "outputs": [
    {
     "name": "stdout",
     "output_type": "stream",
     "text": [
      "['Bedroom', 'Bathroom', 'Hall']\n"
     ]
    }
   ],
   "source": [
    "Input= {'Bedroom': 100.0, 'Kitchen': 50.0, 'Bathroom': 62.5, 'Hall': 75.0}\n",
    "lst1=Input.keys()\n",
    "lst2=[]\n",
    "for i in lst1:\n",
    "    if Input[i] <= 50.0:\n",
    "        continue\n",
    "    lst2.append(i)\n",
    "print(lst2)"
   ]
  },
  {
   "cell_type": "markdown",
   "id": "21dd58c8",
   "metadata": {},
   "source": [
    "#### Q16. Find the place of the house consuming more than 60 and less than 80 square feet area."
   ]
  },
  {
   "cell_type": "code",
   "execution_count": 92,
   "id": "fff7c1b9",
   "metadata": {},
   "outputs": [
    {
     "name": "stdout",
     "output_type": "stream",
     "text": [
      "['Bathroom', 'Hall']\n"
     ]
    }
   ],
   "source": [
    "Input= {'Bedroom': 100.0, 'Kitchen': 50.0, 'Bathroom': 62.5, 'Hall': 75.0}\n",
    "lst1=Input.keys()\n",
    "lst2=[]\n",
    "for i in lst1:\n",
    "    if Input[i] <= 60.0 or Input[i]  >=80:\n",
    "        continue\n",
    "    lst2.append(i)\n",
    "print(lst2)"
   ]
  },
  {
   "cell_type": "markdown",
   "id": "4c1c3ed0",
   "metadata": {},
   "source": [
    "### Q17. Write a Python program to find and print  the indices all the pairs of numbers from a list that add up to a specific target sum.\n",
    "\n",
    "For example, for a given list [2, 7, 11, 15] and a target of 9, the program should output (0,1)."
   ]
  },
  {
   "cell_type": "code",
   "execution_count": 279,
   "id": "c6fdccd7",
   "metadata": {},
   "outputs": [
    {
     "name": "stdout",
     "output_type": "stream",
     "text": [
      "2 3\n"
     ]
    }
   ],
   "source": [
    "lst= [2, 7, 11, 15]\n",
    "out=[]\n",
    "tar = 26\n",
    "for i,j in enumerate(lst):\n",
    "    for k, l in enumerate(lst):\n",
    "        if j + l == tar:\n",
    "            if i < k : \n",
    "                \n",
    "                print(i, k)"
   ]
  },
  {
   "cell_type": "code",
   "execution_count": null,
   "id": "56aceea0",
   "metadata": {},
   "outputs": [],
   "source": []
  },
  {
   "cell_type": "code",
   "execution_count": null,
   "id": "fcc8208f",
   "metadata": {},
   "outputs": [],
   "source": []
  },
  {
   "cell_type": "code",
   "execution_count": 105,
   "id": "276e2708",
   "metadata": {},
   "outputs": [
    {
     "name": "stdout",
     "output_type": "stream",
     "text": [
      "0 1\n",
      "1 0\n"
     ]
    }
   ],
   "source": [
    "lst= [2, 7, 11, 15]\n",
    "out=[]\n",
    "for i,j in enumerate(lst):\n",
    "    for k,l in enumerate(lst):\n",
    "        if j+l==9:\n",
    "\n",
    "            print(i,k)"
   ]
  },
  {
   "cell_type": "markdown",
   "id": "cbcf1833",
   "metadata": {},
   "source": [
    "### Q18. Write a Python program that takes a string as input and prints a new string where the case of letters is swapped (uppercase letters become lowercase and vice versa). (Using list comprehension)\n",
    "\n",
    "Input : cApITal \n",
    "\n",
    "Output : CaPitAL"
   ]
  },
  {
   "cell_type": "code",
   "execution_count": 112,
   "id": "477ee8d8",
   "metadata": {},
   "outputs": [
    {
     "data": {
      "text/plain": [
       "['C', 'P']"
      ]
     },
     "execution_count": 112,
     "metadata": {},
     "output_type": "execute_result"
    }
   ],
   "source": [
    "inp = 'cApITAL'\n",
    "[i.upper() for i in inp if i.islower() ]"
   ]
  },
  {
   "cell_type": "code",
   "execution_count": 281,
   "id": "7ed6ee3c",
   "metadata": {},
   "outputs": [
    {
     "data": {
      "text/plain": [
       "'CaPital'"
      ]
     },
     "execution_count": 281,
     "metadata": {},
     "output_type": "execute_result"
    }
   ],
   "source": [
    "inp = 'cApITAL'\n",
    "inp.swapcase()"
   ]
  },
  {
   "cell_type": "code",
   "execution_count": 284,
   "id": "89a0eb4f",
   "metadata": {},
   "outputs": [
    {
     "data": {
      "text/plain": [
       "'CaPital'"
      ]
     },
     "execution_count": 284,
     "metadata": {},
     "output_type": "execute_result"
    }
   ],
   "source": [
    "''.join([x.swapcase() for x in inp])"
   ]
  },
  {
   "cell_type": "markdown",
   "id": "4f6ba986",
   "metadata": {},
   "source": [
    "### Q19.  You are given the data of different fruits bought by a retailer.\n",
    "\n",
    "fruits = [\"apples\",\"oranges\",\"bananas\",\"melons\"]\n",
    "\n",
    "prices = [20,10,5,15]\n",
    "\n",
    "quantities = [5,7,3,4]\n",
    "\n",
    "Write a Python program to print the bill as given below:\n",
    "\n",
    "Output:\n",
    "\n",
    "You bought 5 apples for 100\n",
    "\n",
    "You bought 7 oranges for 70\n",
    "\n",
    "You bought 3 bananas for 15\n",
    "\n",
    "You bought 4 melons for 60"
   ]
  },
  {
   "cell_type": "code",
   "execution_count": 294,
   "id": "6a608b7e",
   "metadata": {},
   "outputs": [
    {
     "name": "stdout",
     "output_type": "stream",
     "text": [
      "You bought 5 'apples' for 100\n",
      "You bought 7 'oranges' for 70\n",
      "You bought 3 'bananas' for 15\n",
      "You bought 4 'melons' for 60\n"
     ]
    }
   ],
   "source": [
    "fruits = [\"apples\",\"oranges\",\"bananas\",\"melons\"]\n",
    "prices = [20,10,5,15]\n",
    "quantities = [5,7,3,4]\n",
    "\n",
    "for i in range(len(fruits)):\n",
    "    print(f\"You bought {quantities[i]} '{fruits[i]}' for\", prices[i] * quantities[i])"
   ]
  },
  {
   "cell_type": "markdown",
   "id": "693723c4",
   "metadata": {},
   "source": [
    "### Q20. Write a Python program to convert the given matrix in to a list.\n",
    "\n",
    "Input: matrix = [[1, 2], [3,4], [5,6], [7,8]]\n",
    "    \n",
    "Output: [1, 2, 3, 4, 5, 6, 7, 8]"
   ]
  },
  {
   "cell_type": "code",
   "execution_count": 300,
   "id": "539f6577",
   "metadata": {},
   "outputs": [
    {
     "name": "stdout",
     "output_type": "stream",
     "text": [
      "[1, 2, 3, 4, 5, 6, 7, 8]\n"
     ]
    }
   ],
   "source": [
    "matrix = [[1, 2], [3,4], [5,6], [7,8]]\n",
    "out = []\n",
    "\n",
    "for i in matrix:\n",
    "    for j in i:\n",
    "        out.append(j)\n",
    "print(out)"
   ]
  },
  {
   "cell_type": "code",
   "execution_count": 304,
   "id": "13b1e608",
   "metadata": {},
   "outputs": [
    {
     "name": "stdout",
     "output_type": "stream",
     "text": [
      "[1, 2, 3, 4, 5, 6, 7, 8]\n"
     ]
    }
   ],
   "source": [
    "l1 = []\n",
    "for i in matrix:\n",
    "    l1.extend(i)\n",
    "print(l1)"
   ]
  },
  {
   "cell_type": "code",
   "execution_count": 309,
   "id": "cd708442",
   "metadata": {},
   "outputs": [
    {
     "name": "stdout",
     "output_type": "stream",
     "text": [
      "Help on NoneType object:\n",
      "\n",
      "class NoneType(object)\n",
      " |  Methods defined here:\n",
      " |  \n",
      " |  __bool__(self, /)\n",
      " |      True if self else False\n",
      " |  \n",
      " |  __repr__(self, /)\n",
      " |      Return repr(self).\n",
      " |  \n",
      " |  ----------------------------------------------------------------------\n",
      " |  Static methods defined here:\n",
      " |  \n",
      " |  __new__(*args, **kwargs) from builtins.type\n",
      " |      Create and return a new object.  See help(type) for accurate signature.\n",
      "\n"
     ]
    }
   ],
   "source": [
    "help(l1.extend([2]))"
   ]
  },
  {
   "cell_type": "code",
   "execution_count": null,
   "id": "4cc37b78",
   "metadata": {},
   "outputs": [],
   "source": []
  }
 ],
 "metadata": {
  "kernelspec": {
   "display_name": "Python 3 (ipykernel)",
   "language": "python",
   "name": "python3"
  },
  "language_info": {
   "codemirror_mode": {
    "name": "ipython",
    "version": 3
   },
   "file_extension": ".py",
   "mimetype": "text/x-python",
   "name": "python",
   "nbconvert_exporter": "python",
   "pygments_lexer": "ipython3",
   "version": "3.11.3"
  }
 },
 "nbformat": 4,
 "nbformat_minor": 5
}
