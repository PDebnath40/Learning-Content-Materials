{
 "cells": [
  {
   "cell_type": "markdown",
   "id": "3492b4ea",
   "metadata": {},
   "source": [
    "### Q. As a Data Scientist working for ABC Corporation, you are tasked with developing a data processing program to extract and categorize specific information from a given  text, which contains an email address associated with a newly onboarded employee. \n",
    "\n",
    "The company follows a standardized format for creating email IDs, comprising the following components:\n",
    "  \n",
    "  \n",
    "\n",
    "`\"first_name\" + \".\" + \"last_name\" + \"employee_id\" + \"@gmail.com\"`.\n",
    "\n",
    "#### Your objective is to create a data processing program that can extract and organize the following data from the email address:\n",
    "- First name\n",
    "- Last name\n",
    "- Employee ID\n",
    "- Company domain"
   ]
  },
  {
   "cell_type": "markdown",
   "id": "f9c292e3",
   "metadata": {},
   "source": [
    "**Sample Input:**  \n",
    "\n",
    "The email address of the recently hired data scientist is `maria.peter123@datasciencecorp.com`.\n",
    "\n",
    "**Sample Output:**\n",
    "- First name: maria\n",
    "- Last name: peter\n",
    "- Employee ID: 123\n",
    "- Company domain: datasciencecorp\n",
    "\n",
    "Your program should be able to extract and display this information accurately for any given email address following the same format."
   ]
  },
  {
   "cell_type": "code",
   "execution_count": 12,
   "id": "f3840762",
   "metadata": {},
   "outputs": [
    {
     "name": "stdout",
     "output_type": "stream",
     "text": [
      "                                Email\n",
      "0             john.doe012@example.com\n",
      "1    emily.smith210@emailprovider.net\n",
      "2  alexander.jones120@mailservice.org\n",
      "3          sarah.brown356@example.org\n",
      "4         samuel.white536@emailco.com\n",
      "5      lisa.jones258@emailcompany.net\n",
      "6        daniel.miller528@example.net\n",
      "7  jennifer.wilson471@mailservice.com\n",
      "8  michael.clark174@emailprovider.org\n",
      "9      anna.walker369@examplemail.net\n"
     ]
    }
   ],
   "source": [
    "import pandas as pd\n",
    "data = {'Email' : ['john.doe012@example.com',\n",
    "'emily.smith210@emailprovider.net',\n",
    "'alexander.jones120@mailservice.org',\n",
    "'sarah.brown356@example.org',\n",
    "'samuel.white536@emailco.com',\n",
    "'lisa.jones258@emailcompany.net',\n",
    "'daniel.miller528@example.net',\n",
    "'jennifer.wilson471@mailservice.com',\n",
    "'michael.clark174@emailprovider.org',\n",
    "'anna.walker369@examplemail.net']}\n",
    "                   \n",
    "df = pd.DataFrame(data)\n",
    "print(df)"
   ]
  },
  {
   "cell_type": "code",
   "execution_count": 13,
   "id": "9b10ca22",
   "metadata": {},
   "outputs": [
    {
     "data": {
      "text/plain": [
       "'john.doe012@example.com'"
      ]
     },
     "execution_count": 13,
     "metadata": {},
     "output_type": "execute_result"
    }
   ],
   "source": [
    "df['Email'][0]"
   ]
  },
  {
   "cell_type": "code",
   "execution_count": null,
   "id": "09a4775c",
   "metadata": {},
   "outputs": [],
   "source": [
    "def regfun(text):\n",
    "    pattern = r'(\\w+)\\.([a-zA-Z]+)(\\d+)@(\\w+)\\.com'\n",
    "    return"
   ]
  },
  {
   "cell_type": "code",
   "execution_count": 20,
   "id": "8363db88",
   "metadata": {},
   "outputs": [
    {
     "name": "stdout",
     "output_type": "stream",
     "text": [
      "john\n",
      "doe\n",
      "012\n",
      "example\n"
     ]
    }
   ],
   "source": [
    "import re\n",
    "\n",
    "#text = 'The email id of the newly joined employee is rahul.khanna85@hv.com'\n",
    "\n",
    "text = df['Email'][0]\n",
    "\n",
    "pattern = r'(\\w+)\\.([a-zA-Z]+)(\\d+)@(\\w+)\\.com'\n",
    "\n",
    "result = re.search(pattern, text)\n",
    "first_name = result.group(1)\n",
    "last_name = result.group(2)\n",
    "emp_id = result.group(3)\n",
    "company = result.group(4)\n",
    "\n",
    "print(first_name)\n",
    "print(last_name)\n",
    "print(emp_id)\n",
    "print(company)"
   ]
  },
  {
   "cell_type": "code",
   "execution_count": 32,
   "id": "d2ebe073",
   "metadata": {},
   "outputs": [
    {
     "name": "stdout",
     "output_type": "stream",
     "text": [
      "                                               Email First_Name Last_Name  \\\n",
      "0        Hi My email id is : john.doe012@example.com       john       doe   \n",
      "1  There comes my email id- emily.smith210@emailp...      emily     smith   \n",
      "2  Attaching my official email id as alexander.jo...  alexander     jones   \n",
      "3  This is detail for the new employee sarah.brow...      sarah     brown   \n",
      "4       samuel.white536@emailco.com is my offical id     samuel     white   \n",
      "5  My email id is -- lisa.jones258@emailcompany.net        lisa     jones   \n",
      "6  Following is the email id : daniel.miller528@e...     daniel    miller   \n",
      "7  Hello Sir, My current email id is: jennifer.wi...   jennifer    wilson   \n",
      "8  Company email id is michael.clark174@emailprov...    michael     clark   \n",
      "9                     anna.walker369@examplemail.net       anna    walker   \n",
      "\n",
      "  Employee_ID        Company  \n",
      "0         012        example  \n",
      "1         210  emailprovider  \n",
      "2         120    mailservice  \n",
      "3         356        example  \n",
      "4         536        emailco  \n",
      "5         258   emailcompany  \n",
      "6         528        example  \n",
      "7         471    mailservice  \n",
      "8         174  emailprovider  \n",
      "9         369    examplemail  \n"
     ]
    }
   ],
   "source": [
    "import pandas as pd\n",
    "import re\n",
    "\n",
    "data = {'Email': ['Hi My email id is : john.doe012@example.com',\n",
    "                  'There comes my email id- emily.smith210@emailprovider.net',\n",
    "                  'Attaching my official email id as alexander.jones120@mailservice.org',\n",
    "                  'This is detail for the new employee sarah.brown356@example.org',\n",
    "                  'samuel.white536@emailco.com is my offical id',\n",
    "                  'My email id is -- lisa.jones258@emailcompany.net ',\n",
    "                  'Following is the email id : daniel.miller528@example.net',\n",
    "                  'Hello Sir, My current email id is: jennifer.wilson471@mailservice.com',\n",
    "                  'Company email id is michael.clark174@emailprovider.org',\n",
    "                  'anna.walker369@examplemail.net']}\n",
    "\n",
    "df = pd.DataFrame(data)\n",
    "\n",
    "def extract_info(email):\n",
    "    pattern = r'(\\w+)\\.([a-zA-Z]+)(\\d+)@(\\w+)\\.(\\w+)'\n",
    "    result = re.search(pattern, email)\n",
    "    first_name = result.group(1)\n",
    "    last_name = result.group(2)\n",
    "    emp_id = result.group(3)\n",
    "    company = result.group(4)\n",
    "    return pd.Series({'First_Name': first_name, 'Last_Name': last_name, 'Employee_ID': emp_id, 'Company': company})\n",
    "\n",
    "# Apply the function to the 'Email' column\n",
    "df[['First_Name', 'Last_Name', 'Employee_ID', 'Company']] = df['Email'].apply(extract_info)\n",
    "\n",
    "# Display the resulting DataFrame\n",
    "print(df)\n"
   ]
  },
  {
   "cell_type": "code",
   "execution_count": 16,
   "id": "5b858b95",
   "metadata": {},
   "outputs": [
    {
     "data": {
      "text/plain": [
       "0    \n",
       "1    \n",
       "2    \n",
       "3    \n",
       "4    \n",
       "5    \n",
       "6    \n",
       "7    \n",
       "8    \n",
       "9    \n",
       "Name: Employee_ID, dtype: object"
      ]
     },
     "execution_count": 16,
     "metadata": {},
     "output_type": "execute_result"
    }
   ],
   "source": [
    "df['Employee_ID']"
   ]
  },
  {
   "cell_type": "code",
   "execution_count": 17,
   "id": "85402ac2",
   "metadata": {},
   "outputs": [
    {
     "data": {
      "text/html": [
       "<div>\n",
       "<style scoped>\n",
       "    .dataframe tbody tr th:only-of-type {\n",
       "        vertical-align: middle;\n",
       "    }\n",
       "\n",
       "    .dataframe tbody tr th {\n",
       "        vertical-align: top;\n",
       "    }\n",
       "\n",
       "    .dataframe thead th {\n",
       "        text-align: right;\n",
       "    }\n",
       "</style>\n",
       "<table border=\"1\" class=\"dataframe\">\n",
       "  <thead>\n",
       "    <tr style=\"text-align: right;\">\n",
       "      <th></th>\n",
       "      <th>Email</th>\n",
       "      <th>First_Name</th>\n",
       "      <th>Last_Name</th>\n",
       "      <th>Employee_ID</th>\n",
       "      <th>Company</th>\n",
       "    </tr>\n",
       "  </thead>\n",
       "  <tbody>\n",
       "    <tr>\n",
       "      <th>0</th>\n",
       "      <td>john.doe012@example.com</td>\n",
       "      <td>john</td>\n",
       "      <td>doe012</td>\n",
       "      <td></td>\n",
       "      <td>example.com</td>\n",
       "    </tr>\n",
       "    <tr>\n",
       "      <th>1</th>\n",
       "      <td>emily.smith210@emailprovider.net</td>\n",
       "      <td>emily</td>\n",
       "      <td>smith210</td>\n",
       "      <td></td>\n",
       "      <td>emailprovider.net</td>\n",
       "    </tr>\n",
       "    <tr>\n",
       "      <th>2</th>\n",
       "      <td>alexander.jones120@mailservice.org</td>\n",
       "      <td>alexander</td>\n",
       "      <td>jones120</td>\n",
       "      <td></td>\n",
       "      <td>mailservice.org</td>\n",
       "    </tr>\n",
       "    <tr>\n",
       "      <th>3</th>\n",
       "      <td>sarah.brown356@example.org</td>\n",
       "      <td>sarah</td>\n",
       "      <td>brown356</td>\n",
       "      <td></td>\n",
       "      <td>example.org</td>\n",
       "    </tr>\n",
       "    <tr>\n",
       "      <th>4</th>\n",
       "      <td>samuel.white536@emailco.com</td>\n",
       "      <td>samuel</td>\n",
       "      <td>white536</td>\n",
       "      <td></td>\n",
       "      <td>emailco.com</td>\n",
       "    </tr>\n",
       "  </tbody>\n",
       "</table>\n",
       "</div>"
      ],
      "text/plain": [
       "                                Email First_Name Last_Name Employee_ID  \\\n",
       "0             john.doe012@example.com       john    doe012               \n",
       "1    emily.smith210@emailprovider.net      emily  smith210               \n",
       "2  alexander.jones120@mailservice.org  alexander  jones120               \n",
       "3          sarah.brown356@example.org      sarah  brown356               \n",
       "4         samuel.white536@emailco.com     samuel  white536               \n",
       "\n",
       "             Company  \n",
       "0        example.com  \n",
       "1  emailprovider.net  \n",
       "2    mailservice.org  \n",
       "3        example.org  \n",
       "4        emailco.com  "
      ]
     },
     "execution_count": 17,
     "metadata": {},
     "output_type": "execute_result"
    }
   ],
   "source": [
    "df.head()"
   ]
  },
  {
   "cell_type": "code",
   "execution_count": 23,
   "id": "6276e476",
   "metadata": {},
   "outputs": [
    {
     "name": "stdout",
     "output_type": "stream",
     "text": [
      "                                Email First_Name  Last_Name Employee_ID  \\\n",
      "0             john.doe012@example.com       john     doe012        None   \n",
      "1    emily.smith210@emailprovider.net      emily   smith210        None   \n",
      "2  alexander.jones120@mailservice.org  alexander   jones120        None   \n",
      "3          sarah.brown356@example.org      sarah   brown356        None   \n",
      "4         samuel.white536@emailco.com     samuel   white536        None   \n",
      "5      lisa.jones258@emailcompany.net       lisa   jones258        None   \n",
      "6        daniel.miller528@example.net     daniel  miller528        None   \n",
      "7  jennifer.wilson471@mailservice.com   jennifer  wilson471        None   \n",
      "8  michael.clark174@emailprovider.org    michael   clark174        None   \n",
      "9      anna.walker369@examplemail.net       anna  walker369        None   \n",
      "\n",
      "             Company  \n",
      "0        example.com  \n",
      "1  emailprovider.net  \n",
      "2    mailservice.org  \n",
      "3        example.org  \n",
      "4        emailco.com  \n",
      "5   emailcompany.net  \n",
      "6        example.net  \n",
      "7    mailservice.com  \n",
      "8  emailprovider.org  \n",
      "9    examplemail.net  \n"
     ]
    }
   ],
   "source": [
    "import pandas as pd\n",
    "import re\n",
    "\n",
    "data = {'Email': ['john.doe012@example.com',\n",
    "                  'emily.smith210@emailprovider.net',\n",
    "                  'alexander.jones120@mailservice.org',\n",
    "                  'sarah.brown356@example.org',\n",
    "                  'samuel.white536@emailco.com',\n",
    "                  'lisa.jones258@emailcompany.net',\n",
    "                  'daniel.miller528@example.net',\n",
    "                  'jennifer.wilson471@mailservice.com',\n",
    "                  'michael.clark174@emailprovider.org',\n",
    "                  'anna.walker369@examplemail.net']}\n",
    "\n",
    "df = pd.DataFrame(data)\n",
    "\n",
    "def extract_info(email):\n",
    "    pattern = r'(\\w+)\\.(\\w+)(\\d*)@(\\w+\\.\\w+)'\n",
    "    result = re.search(pattern, email)\n",
    "    if result:\n",
    "        first_name = result.group(1)\n",
    "        last_name = result.group(2)\n",
    "        emp_id = result.group(3) if result.group(3) else None  # Handle the case where emp_id is empty\n",
    "        company = result.group(4)\n",
    "        return pd.Series({'First_Name': first_name, 'Last_Name': last_name, 'Employee_ID': emp_id, 'Company': company})\n",
    "    else:\n",
    "        return pd.Series({'First_Name': None, 'Last_Name': None, 'Employee_ID': None, 'Company': None})\n",
    "\n",
    "# Apply the function to the 'Email' column\n",
    "df[['First_Name', 'Last_Name', 'Employee_ID', 'Company']] = df['Email'].apply(extract_info)\n",
    "\n",
    "# Display the resulting DataFrame\n",
    "print(df)\n"
   ]
  },
  {
   "cell_type": "code",
   "execution_count": null,
   "id": "8916880d",
   "metadata": {},
   "outputs": [],
   "source": []
  }
 ],
 "metadata": {
  "kernelspec": {
   "display_name": "Python 3 (ipykernel)",
   "language": "python",
   "name": "python3"
  },
  "language_info": {
   "codemirror_mode": {
    "name": "ipython",
    "version": 3
   },
   "file_extension": ".py",
   "mimetype": "text/x-python",
   "name": "python",
   "nbconvert_exporter": "python",
   "pygments_lexer": "ipython3",
   "version": "3.11.3"
  }
 },
 "nbformat": 4,
 "nbformat_minor": 5
}
