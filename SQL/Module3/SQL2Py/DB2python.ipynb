{
 "cells": [
  {
   "cell_type": "markdown",
   "id": "1a89c5aa",
   "metadata": {},
   "source": [
    "# Connecting SQLite to Python\n",
    "\n",
    "![image.png](https://pythontic.com/sqlite_attach_db_python.png)\n",
    "\n",
    "- SQLite is a lightweight, file-based SQL database engine that is easy to set up and use. \n",
    "- Python provides a built-in module called **`sqlite3`** that allows seamless integration with SQLite databases.\n",
    "- It enables users to perform SQL operations, such as creating databases, executing queries, and manipulating data, directly from Python code.\n",
    "\n",
    "## Importance in Data Science\n",
    "\n",
    "1. **Data Storage and Retrieval**: SQLite offers an efficient way to store and retrieve structured data, making it suitable for smaller-scale applications or projects where a full-fledged database might be excessive.\n",
    "\n",
    "2. **Data Exploration and Analysis**: Integration with Python allows data scientists and analysts to easily access, manipulate, and analyze data using SQL queries and Python code. It facilitates data exploration before processing or analysis.\n",
    "\n",
    "3. **Prototyping and Development**: For prototyping and developing applications or analytical models, SQLite serves as a convenient and quick-to-set-up database "
   ]
  },
  {
   "cell_type": "markdown",
   "id": "cf9fe348",
   "metadata": {},
   "source": [
    "###  Import Libraries\n",
    "- **`sqlite3`**: Library for working with SQLite databases.\n",
    "- **`pandas`**: Library for data manipulation and analysis."
   ]
  },
  {
   "cell_type": "code",
   "execution_count": 2,
   "id": "5df9826d",
   "metadata": {},
   "outputs": [],
   "source": [
    "import sqlite3\n",
    "import pandas as pd"
   ]
  },
  {
   "cell_type": "code",
   "execution_count": null,
   "id": "8e207fec",
   "metadata": {},
   "outputs": [],
   "source": []
  },
  {
   "cell_type": "markdown",
   "id": "afb25cca",
   "metadata": {},
   "source": [
    "### Connect to the Database\n",
    "Use **`sqlite3.connect()`** to establish a connection to the SQLite database by providing the database file path."
   ]
  },
  {
   "cell_type": "code",
   "execution_count": 25,
   "id": "b18a8594",
   "metadata": {},
   "outputs": [],
   "source": [
    "database = \"sakila.db\""
   ]
  },
  {
   "cell_type": "code",
   "execution_count": 26,
   "id": "e2b962d2",
   "metadata": {},
   "outputs": [],
   "source": [
    "# Connect to the SQLite database\n",
    "connection =  sqlite3.connect(database)\n"
   ]
  },
  {
   "cell_type": "code",
   "execution_count": 27,
   "id": "51f93f22",
   "metadata": {},
   "outputs": [
    {
     "data": {
      "text/plain": [
       "<sqlite3.Connection at 0x2d545c8df30>"
      ]
     },
     "execution_count": 27,
     "metadata": {},
     "output_type": "execute_result"
    }
   ],
   "source": [
    "connection"
   ]
  },
  {
   "cell_type": "markdown",
   "id": "e6c295f9",
   "metadata": {},
   "source": [
    "### Create a Cursor Object\n",
    "Create a cursor object using `connection.cursor()` to execute SQL queries."
   ]
  },
  {
   "cell_type": "code",
   "execution_count": 36,
   "id": "2399160a",
   "metadata": {},
   "outputs": [
    {
     "data": {
      "text/plain": [
       "<sqlite3.Cursor at 0x2d5478bbd40>"
      ]
     },
     "execution_count": 36,
     "metadata": {},
     "output_type": "execute_result"
    }
   ],
   "source": [
    "# Create a cursor object to execute SQL queries\n",
    "cursor = connection.cursor()\n",
    "cursor"
   ]
  },
  {
   "cell_type": "markdown",
   "id": "12b8c288",
   "metadata": {},
   "source": [
    "###  Retrieve Data\n",
    "- Let's retrieve a table named `film` from open source `sakila` database.\n",
    "- Use `cursor.execute()` to execute an **SQL query (`SELECT * FROM film`)** to fetch data from the `'film'` table."
   ]
  },
  {
   "cell_type": "code",
   "execution_count": 37,
   "id": "462c282c",
   "metadata": {},
   "outputs": [],
   "source": [
    "# to update data in the table\n",
    "\n",
    "d = cursor.execute('''\n",
    "        SELECT * FROM film;\n",
    "        \n",
    "    ''')\n",
    "\n",
    "# Commit the changes\n",
    "connection.commit()\n"
   ]
  },
  {
   "cell_type": "code",
   "execution_count": 38,
   "id": "b4f157d5",
   "metadata": {},
   "outputs": [
    {
     "data": {
      "text/plain": [
       "<sqlite3.Cursor at 0x2d5478bbd40>"
      ]
     },
     "execution_count": 38,
     "metadata": {},
     "output_type": "execute_result"
    }
   ],
   "source": [
    "d"
   ]
  },
  {
   "cell_type": "markdown",
   "id": "61c4e4f1",
   "metadata": {},
   "source": [
    "### Get Column Names\n",
    "Extract column names from the fetched data using `cursor.description`."
   ]
  },
  {
   "cell_type": "code",
   "execution_count": 39,
   "id": "5694fadb",
   "metadata": {},
   "outputs": [
    {
     "data": {
      "text/plain": [
       "['film_id',\n",
       " 'title',\n",
       " 'description',\n",
       " 'release_year',\n",
       " 'language_id',\n",
       " 'original_language_id',\n",
       " 'rental_duration',\n",
       " 'rental_rate',\n",
       " 'length',\n",
       " 'replacement_cost',\n",
       " 'rating',\n",
       " 'special_features',\n",
       " 'last_update']"
      ]
     },
     "execution_count": 39,
     "metadata": {},
     "output_type": "execute_result"
    }
   ],
   "source": [
    "#Get column names\n",
    "col_names = [x[0] for x in cursor.description]\n",
    "col_names"
   ]
  },
  {
   "cell_type": "code",
   "execution_count": null,
   "id": "5b3e0066",
   "metadata": {},
   "outputs": [],
   "source": []
  },
  {
   "cell_type": "markdown",
   "id": "b61c88e2",
   "metadata": {},
   "source": [
    "### Fetch Data\n",
    "Use `cursor.fetchall()` to retrieve all data from the executed SQL query."
   ]
  },
  {
   "cell_type": "code",
   "execution_count": 40,
   "id": "fb5d0b55",
   "metadata": {},
   "outputs": [],
   "source": [
    "# Step 6: Fetch all the data\n",
    "tables = cursor.fetchall()\n",
    "# tables"
   ]
  },
  {
   "cell_type": "markdown",
   "id": "b414fbd7",
   "metadata": {},
   "source": [
    "### Create a DataFrame\n",
    "Utilize the **fetched data** and **column names** to create a Pandas DataFrame using `pd.DataFrame()` for perform further data analysis ."
   ]
  },
  {
   "cell_type": "code",
   "execution_count": 41,
   "id": "9dcf179d",
   "metadata": {},
   "outputs": [
    {
     "data": {
      "text/html": [
       "<div>\n",
       "<style scoped>\n",
       "    .dataframe tbody tr th:only-of-type {\n",
       "        vertical-align: middle;\n",
       "    }\n",
       "\n",
       "    .dataframe tbody tr th {\n",
       "        vertical-align: top;\n",
       "    }\n",
       "\n",
       "    .dataframe thead th {\n",
       "        text-align: right;\n",
       "    }\n",
       "</style>\n",
       "<table border=\"1\" class=\"dataframe\">\n",
       "  <thead>\n",
       "    <tr style=\"text-align: right;\">\n",
       "      <th></th>\n",
       "      <th>film_id</th>\n",
       "      <th>title</th>\n",
       "      <th>description</th>\n",
       "      <th>release_year</th>\n",
       "      <th>language_id</th>\n",
       "      <th>original_language_id</th>\n",
       "      <th>rental_duration</th>\n",
       "      <th>rental_rate</th>\n",
       "      <th>length</th>\n",
       "      <th>replacement_cost</th>\n",
       "      <th>rating</th>\n",
       "      <th>special_features</th>\n",
       "      <th>last_update</th>\n",
       "    </tr>\n",
       "  </thead>\n",
       "  <tbody>\n",
       "    <tr>\n",
       "      <th>0</th>\n",
       "      <td>1</td>\n",
       "      <td>ACADEMY DINOSAUR</td>\n",
       "      <td>A Epic Drama of a Feminist And a Mad Scientist...</td>\n",
       "      <td>2006</td>\n",
       "      <td>1</td>\n",
       "      <td>None</td>\n",
       "      <td>6</td>\n",
       "      <td>0.99</td>\n",
       "      <td>86</td>\n",
       "      <td>20.99</td>\n",
       "      <td>PG</td>\n",
       "      <td>Deleted Scenes,Behind the Scenes</td>\n",
       "      <td>2021-03-06 15:52:00</td>\n",
       "    </tr>\n",
       "    <tr>\n",
       "      <th>1</th>\n",
       "      <td>2</td>\n",
       "      <td>ACE GOLDFINGER</td>\n",
       "      <td>A Astounding Epistle of a Database Administrat...</td>\n",
       "      <td>2006</td>\n",
       "      <td>1</td>\n",
       "      <td>None</td>\n",
       "      <td>3</td>\n",
       "      <td>4.99</td>\n",
       "      <td>48</td>\n",
       "      <td>12.99</td>\n",
       "      <td>G</td>\n",
       "      <td>Trailers,Deleted Scenes</td>\n",
       "      <td>2021-03-06 15:52:00</td>\n",
       "    </tr>\n",
       "    <tr>\n",
       "      <th>2</th>\n",
       "      <td>3</td>\n",
       "      <td>ADAPTATION HOLES</td>\n",
       "      <td>A Astounding Reflection of a Lumberjack And a ...</td>\n",
       "      <td>2006</td>\n",
       "      <td>1</td>\n",
       "      <td>None</td>\n",
       "      <td>7</td>\n",
       "      <td>2.99</td>\n",
       "      <td>50</td>\n",
       "      <td>18.99</td>\n",
       "      <td>NC-17</td>\n",
       "      <td>Trailers,Deleted Scenes</td>\n",
       "      <td>2021-03-06 15:52:00</td>\n",
       "    </tr>\n",
       "    <tr>\n",
       "      <th>3</th>\n",
       "      <td>4</td>\n",
       "      <td>AFFAIR PREJUDICE</td>\n",
       "      <td>A Fanciful Documentary of a Frisbee And a Lumb...</td>\n",
       "      <td>2006</td>\n",
       "      <td>1</td>\n",
       "      <td>None</td>\n",
       "      <td>5</td>\n",
       "      <td>2.99</td>\n",
       "      <td>117</td>\n",
       "      <td>26.99</td>\n",
       "      <td>G</td>\n",
       "      <td>Commentaries,Behind the Scenes</td>\n",
       "      <td>2021-03-06 15:52:00</td>\n",
       "    </tr>\n",
       "    <tr>\n",
       "      <th>4</th>\n",
       "      <td>5</td>\n",
       "      <td>AFRICAN EGG</td>\n",
       "      <td>A Fast-Paced Documentary of a Pastry Chef And ...</td>\n",
       "      <td>2006</td>\n",
       "      <td>1</td>\n",
       "      <td>None</td>\n",
       "      <td>6</td>\n",
       "      <td>2.99</td>\n",
       "      <td>130</td>\n",
       "      <td>22.99</td>\n",
       "      <td>G</td>\n",
       "      <td>Deleted Scenes</td>\n",
       "      <td>2021-03-06 15:52:00</td>\n",
       "    </tr>\n",
       "    <tr>\n",
       "      <th>...</th>\n",
       "      <td>...</td>\n",
       "      <td>...</td>\n",
       "      <td>...</td>\n",
       "      <td>...</td>\n",
       "      <td>...</td>\n",
       "      <td>...</td>\n",
       "      <td>...</td>\n",
       "      <td>...</td>\n",
       "      <td>...</td>\n",
       "      <td>...</td>\n",
       "      <td>...</td>\n",
       "      <td>...</td>\n",
       "      <td>...</td>\n",
       "    </tr>\n",
       "    <tr>\n",
       "      <th>995</th>\n",
       "      <td>996</td>\n",
       "      <td>YOUNG LANGUAGE</td>\n",
       "      <td>A Unbelieveable Yarn of a Boat And a Database ...</td>\n",
       "      <td>2006</td>\n",
       "      <td>1</td>\n",
       "      <td>None</td>\n",
       "      <td>6</td>\n",
       "      <td>0.99</td>\n",
       "      <td>183</td>\n",
       "      <td>9.99</td>\n",
       "      <td>G</td>\n",
       "      <td>Trailers,Behind the Scenes</td>\n",
       "      <td>2021-03-06 15:52:08</td>\n",
       "    </tr>\n",
       "    <tr>\n",
       "      <th>996</th>\n",
       "      <td>997</td>\n",
       "      <td>YOUTH KICK</td>\n",
       "      <td>A Touching Drama of a Teacher And a Cat who mu...</td>\n",
       "      <td>2006</td>\n",
       "      <td>1</td>\n",
       "      <td>None</td>\n",
       "      <td>4</td>\n",
       "      <td>0.99</td>\n",
       "      <td>179</td>\n",
       "      <td>14.99</td>\n",
       "      <td>NC-17</td>\n",
       "      <td>Trailers,Behind the Scenes</td>\n",
       "      <td>2021-03-06 15:52:08</td>\n",
       "    </tr>\n",
       "    <tr>\n",
       "      <th>997</th>\n",
       "      <td>998</td>\n",
       "      <td>ZHIVAGO CORE</td>\n",
       "      <td>A Fateful Yarn of a Composer And a Man who mus...</td>\n",
       "      <td>2006</td>\n",
       "      <td>1</td>\n",
       "      <td>None</td>\n",
       "      <td>6</td>\n",
       "      <td>0.99</td>\n",
       "      <td>105</td>\n",
       "      <td>10.99</td>\n",
       "      <td>NC-17</td>\n",
       "      <td>Deleted Scenes</td>\n",
       "      <td>2021-03-06 15:52:08</td>\n",
       "    </tr>\n",
       "    <tr>\n",
       "      <th>998</th>\n",
       "      <td>999</td>\n",
       "      <td>ZOOLANDER FICTION</td>\n",
       "      <td>A Fateful Reflection of a Waitress And a Boat ...</td>\n",
       "      <td>2006</td>\n",
       "      <td>1</td>\n",
       "      <td>None</td>\n",
       "      <td>5</td>\n",
       "      <td>2.99</td>\n",
       "      <td>101</td>\n",
       "      <td>28.99</td>\n",
       "      <td>R</td>\n",
       "      <td>Trailers,Deleted Scenes</td>\n",
       "      <td>2021-03-06 15:52:08</td>\n",
       "    </tr>\n",
       "    <tr>\n",
       "      <th>999</th>\n",
       "      <td>1000</td>\n",
       "      <td>ZORRO ARK</td>\n",
       "      <td>A Intrepid Panorama of a Mad Scientist And a B...</td>\n",
       "      <td>2006</td>\n",
       "      <td>1</td>\n",
       "      <td>None</td>\n",
       "      <td>3</td>\n",
       "      <td>4.99</td>\n",
       "      <td>50</td>\n",
       "      <td>18.99</td>\n",
       "      <td>NC-17</td>\n",
       "      <td>Trailers,Commentaries,Behind the Scenes</td>\n",
       "      <td>2021-03-06 15:52:08</td>\n",
       "    </tr>\n",
       "  </tbody>\n",
       "</table>\n",
       "<p>1000 rows × 13 columns</p>\n",
       "</div>"
      ],
      "text/plain": [
       "     film_id              title  \\\n",
       "0          1   ACADEMY DINOSAUR   \n",
       "1          2     ACE GOLDFINGER   \n",
       "2          3   ADAPTATION HOLES   \n",
       "3          4   AFFAIR PREJUDICE   \n",
       "4          5        AFRICAN EGG   \n",
       "..       ...                ...   \n",
       "995      996     YOUNG LANGUAGE   \n",
       "996      997         YOUTH KICK   \n",
       "997      998       ZHIVAGO CORE   \n",
       "998      999  ZOOLANDER FICTION   \n",
       "999     1000          ZORRO ARK   \n",
       "\n",
       "                                           description release_year  \\\n",
       "0    A Epic Drama of a Feminist And a Mad Scientist...         2006   \n",
       "1    A Astounding Epistle of a Database Administrat...         2006   \n",
       "2    A Astounding Reflection of a Lumberjack And a ...         2006   \n",
       "3    A Fanciful Documentary of a Frisbee And a Lumb...         2006   \n",
       "4    A Fast-Paced Documentary of a Pastry Chef And ...         2006   \n",
       "..                                                 ...          ...   \n",
       "995  A Unbelieveable Yarn of a Boat And a Database ...         2006   \n",
       "996  A Touching Drama of a Teacher And a Cat who mu...         2006   \n",
       "997  A Fateful Yarn of a Composer And a Man who mus...         2006   \n",
       "998  A Fateful Reflection of a Waitress And a Boat ...         2006   \n",
       "999  A Intrepid Panorama of a Mad Scientist And a B...         2006   \n",
       "\n",
       "     language_id original_language_id  rental_duration  rental_rate  length  \\\n",
       "0              1                 None                6         0.99      86   \n",
       "1              1                 None                3         4.99      48   \n",
       "2              1                 None                7         2.99      50   \n",
       "3              1                 None                5         2.99     117   \n",
       "4              1                 None                6         2.99     130   \n",
       "..           ...                  ...              ...          ...     ...   \n",
       "995            1                 None                6         0.99     183   \n",
       "996            1                 None                4         0.99     179   \n",
       "997            1                 None                6         0.99     105   \n",
       "998            1                 None                5         2.99     101   \n",
       "999            1                 None                3         4.99      50   \n",
       "\n",
       "     replacement_cost rating                         special_features  \\\n",
       "0               20.99     PG         Deleted Scenes,Behind the Scenes   \n",
       "1               12.99      G                  Trailers,Deleted Scenes   \n",
       "2               18.99  NC-17                  Trailers,Deleted Scenes   \n",
       "3               26.99      G           Commentaries,Behind the Scenes   \n",
       "4               22.99      G                           Deleted Scenes   \n",
       "..                ...    ...                                      ...   \n",
       "995              9.99      G               Trailers,Behind the Scenes   \n",
       "996             14.99  NC-17               Trailers,Behind the Scenes   \n",
       "997             10.99  NC-17                           Deleted Scenes   \n",
       "998             28.99      R                  Trailers,Deleted Scenes   \n",
       "999             18.99  NC-17  Trailers,Commentaries,Behind the Scenes   \n",
       "\n",
       "             last_update  \n",
       "0    2021-03-06 15:52:00  \n",
       "1    2021-03-06 15:52:00  \n",
       "2    2021-03-06 15:52:00  \n",
       "3    2021-03-06 15:52:00  \n",
       "4    2021-03-06 15:52:00  \n",
       "..                   ...  \n",
       "995  2021-03-06 15:52:08  \n",
       "996  2021-03-06 15:52:08  \n",
       "997  2021-03-06 15:52:08  \n",
       "998  2021-03-06 15:52:08  \n",
       "999  2021-03-06 15:52:08  \n",
       "\n",
       "[1000 rows x 13 columns]"
      ]
     },
     "execution_count": 41,
     "metadata": {},
     "output_type": "execute_result"
    }
   ],
   "source": [
    "#Create a Pandas DataFrame\n",
    "employees_df = pd.DataFrame(tables, columns=col_names)\n",
    "employees_df"
   ]
  },
  {
   "cell_type": "markdown",
   "id": "2f97692a",
   "metadata": {},
   "source": [
    "### Export Data to CSV / Excel\n",
    "If you wish to save this DataFrame to a CSV / Excel file using **to_csv() / to_excel()** method with **index=False** to exclude the index column."
   ]
  },
  {
   "cell_type": "code",
   "execution_count": 42,
   "id": "cebd4016",
   "metadata": {},
   "outputs": [],
   "source": [
    "# Export the data to a CSV file\n",
    "employees_df.to_csv(\"film.csv\", index=False)"
   ]
  },
  {
   "cell_type": "code",
   "execution_count": null,
   "id": "83fc1646",
   "metadata": {},
   "outputs": [],
   "source": []
  }
 ],
 "metadata": {
  "kernelspec": {
   "display_name": "Python 3 (ipykernel)",
   "language": "python",
   "name": "python3"
  },
  "language_info": {
   "codemirror_mode": {
    "name": "ipython",
    "version": 3
   },
   "file_extension": ".py",
   "mimetype": "text/x-python",
   "name": "python",
   "nbconvert_exporter": "python",
   "pygments_lexer": "ipython3",
   "version": "3.11.3"
  }
 },
 "nbformat": 4,
 "nbformat_minor": 5
}
